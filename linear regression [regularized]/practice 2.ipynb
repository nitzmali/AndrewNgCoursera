{
 "cells": [
  {
   "cell_type": "code",
   "execution_count": 518,
   "metadata": {},
   "outputs": [],
   "source": [
    "import numpy as np \n",
    "import pandas as pd \n",
    "import matplotlib.pyplot as plt \n",
    "import plotly as pl\n",
    "import scipy.optimize as opt\n",
    "from scipy import optimize\n",
    "from scipy.io import loadmat\n",
    "import seaborn as sns"
   ]
  },
  {
   "cell_type": "code",
   "execution_count": 519,
   "metadata": {},
   "outputs": [],
   "source": [
    "data=loadmat('machine-learning-ex5\\ex5\\ex5data1.mat')"
   ]
  },
  {
   "cell_type": "code",
   "execution_count": 721,
   "metadata": {},
   "outputs": [],
   "source": [
    "X=data['X']\n",
    "origX=data['X']\n",
    "y=data['y']\n",
    "Xtest=data['Xtest']\n",
    "ytest=data['ytest']\n",
    "Xval=data['Xval']\n",
    "yval=data['yval']"
   ]
  },
  {
   "cell_type": "code",
   "execution_count": 585,
   "metadata": {},
   "outputs": [],
   "source": [
    "#validationdata\n",
    "ones=np.ones((len(Xval),1))\n",
    "Xval=np.hstack((ones,Xval))"
   ]
  },
  {
   "cell_type": "code",
   "execution_count": 584,
   "metadata": {},
   "outputs": [
    {
     "data": {
      "text/plain": [
       "[<matplotlib.lines.Line2D at 0x182142eb6d8>]"
      ]
     },
     "execution_count": 584,
     "metadata": {},
     "output_type": "execute_result"
    },
    {
     "data": {
      "image/png": "[encoded data removed]",
      "text/plain": [
       "<Figure size 432x288 with 1 Axes>"
      ]
     },
     "metadata": {
      "needs_background": "light"
     },
     "output_type": "display_data"
    }
   ],
   "source": [
    "\n",
    "plt.plot(X,y, 'ro', ms=10, mec='k', mew=3)"
   ]
  },
  {
   "cell_type": "code",
   "execution_count": 618,
   "metadata": {},
   "outputs": [],
   "source": [
    "def featuremapping(X,p):\n",
    "    X_poly = np.zeros((X.shape[0], p))\n",
    "    for i in range(p):\n",
    "            X_poly[:, i] = X[:, 0] ** (i + 1)\n",
    "\n",
    "    # ============================================================\n",
    "    return X_poly"
   ]
  },
  {
   "cell_type": "code",
   "execution_count": 532,
   "metadata": {},
   "outputs": [],
   "source": [
    "def costfunction(theta,X,y,lmbda):\n",
    "    m=len(y)\n",
    "    temp=np.sum(np.power(np.dot(X,theta)-y,2))/(2*m)\n",
    "    temp=temp+(lmbda/(2*m))*np.sum(np.power(theta[1:],2))\n",
    "    return temp\n",
    "    "
   ]
  },
  {
   "cell_type": "code",
   "execution_count": 641,
   "metadata": {},
   "outputs": [],
   "source": [
    "def featurenormalize(X):    \n",
    "    mu = np.mean(X, axis=0)\n",
    "    X_norm = X - mu\n",
    "\n",
    "    sigma = np.std(X_norm, axis=0, ddof=1)\n",
    "    X_norm /= sigma\n",
    "    return X_norm, mu, sigma"
   ]
  },
  {
   "cell_type": "code",
   "execution_count": 855,
   "metadata": {},
   "outputs": [],
   "source": [
    "def newtrainlinear(theta,X,y,lmbda):\n",
    "    theta=np.ones([X.shape[1],1])\n",
    "    options = {'maxiter': 200}\n",
    "    theta=optimize.minimize(fun=costfunction,x0=theta, method='TNC',args=(X,y.flatten(),lmbda), options=options)\n",
    "    return theta.x\n",
    "\n",
    "    "
   ]
  },
  {
   "cell_type": "code",
   "execution_count": 806,
   "metadata": {},
   "outputs": [],
   "source": [
    "def lrgradient(theta,X,y,lmbda):\n",
    "    m=len(y)\n",
    "    theta=(np.dot(X.T,np.dot(X,theta)-y))\n",
    "    theta=theta/m\n",
    "    theta[1:]=theta[1:]+(lmbda/m)*theta[1:]\n",
    "    return theta"
   ]
  },
  {
   "cell_type": "code",
   "execution_count": 807,
   "metadata": {},
   "outputs": [],
   "source": [
    "def trainlinear(theta,X,y,lmbda):\n",
    "    theta=np.ones([X.shape[1],1])\n",
    "    theta=opt.fmin_cg(f=costfunction,x0=theta.flatten(),fprime=lrgradient,args=(X,y.flatten(),lmbda),maxiter=100)[:,np.newaxis]\n",
    "    return theta"
   ]
  },
  {
   "cell_type": "code",
   "execution_count": 759,
   "metadata": {},
   "outputs": [
    {
     "name": "stdout",
     "output_type": "stream",
     "text": [
      "(12, 2) (2, 1)\n"
     ]
    }
   ],
   "source": [
    "#normal regression\n",
    "m=len(y)\n",
    "ones=np.ones([m,1])\n",
    "linx=X\n",
    "linx=np.hstack((ones,linx))\n",
    "m,n=linx.shape\n",
    "theta=np.ones((n,1))\n",
    "lmbda=0\n",
    "print(linx.shape,theta.shape)"
   ]
  },
  {
   "cell_type": "code",
   "execution_count": 760,
   "metadata": {},
   "outputs": [
    {
     "data": {
      "text/plain": [
       "      fun: 22.373906495108926\n",
       " hess_inv: array([[1.02947531, 0.00612691],\n",
       "       [0.00612691, 0.0012134 ]])\n",
       "      jac: array([2.38418579e-07, 7.15255737e-07])\n",
       "  message: 'Optimization terminated successfully.'\n",
       "     nfev: 24\n",
       "      nit: 5\n",
       "     njev: 6\n",
       "   status: 0\n",
       "  success: True\n",
       "        x: array([13.08790346,  0.36777922])"
      ]
     },
     "execution_count": 760,
     "metadata": {},
     "output_type": "execute_result"
    }
   ],
   "source": [
    "\n",
    "options = {'maxiter': 200}\n",
    "optimize.minimize(fun=costfunction,x0=theta.flatten(),args=(linx,y.flatten(),lmbda), options=options)"
   ]
  },
  {
   "cell_type": "code",
   "execution_count": 761,
   "metadata": {},
   "outputs": [
    {
     "name": "stdout",
     "output_type": "stream",
     "text": [
      "[[-183.63618809]\n",
      " [7776.17634091]]\n",
      "Optimization terminated successfully.\n",
      "         Current function value: 22.379542\n",
      "         Iterations: 30\n",
      "         Function evaluations: 133\n",
      "         Gradient evaluations: 129\n",
      "[[13.08790303]\n",
      " [ 0.36777923]]\n"
     ]
    },
    {
     "data": {
      "text/plain": [
       "[<matplotlib.lines.Line2D at 0x18216c69f98>]"
      ]
     },
     "execution_count": 761,
     "metadata": {},
     "output_type": "execute_result"
    },
    {
     "data": {
      "image/png": "[encoded data removed]",
      "text/plain": [
       "<Figure size 432x288 with 1 Axes>"
      ]
     },
     "metadata": {
      "needs_background": "light"
     },
     "output_type": "display_data"
    }
   ],
   "source": [
    "costfunction(theta,linx,y,lmbda)\n",
    "lmbda=1\n",
    "print(lrgradient(theta,linx,y,lmbda))\n",
    "newtheta=trainlinear(theta,linx,y,lmbda)\n",
    "print(newtheta)\n",
    "plt.plot(linx[:,1],y,'ro',ms=10, mec='k', mew=1.5)\n",
    "plt.plot(linx[:,1],np.dot(linx,newtheta),'--',lw='2')"
   ]
  },
  {
   "cell_type": "code",
   "execution_count": 594,
   "metadata": {},
   "outputs": [
    {
     "name": "stdout",
     "output_type": "stream",
     "text": [
      "Optimization terminated successfully.\n",
      "         Current function value: 0.000000\n",
      "         Iterations: 2\n",
      "         Function evaluations: 4\n",
      "         Gradient evaluations: 4\n",
      "Optimization terminated successfully.\n",
      "         Current function value: 0.000000\n",
      "         Iterations: 3\n",
      "         Function evaluations: 7\n",
      "         Gradient evaluations: 7\n",
      "Optimization terminated successfully.\n",
      "         Current function value: 3.286595\n",
      "         Iterations: 4\n",
      "         Function evaluations: 9\n",
      "         Gradient evaluations: 9\n",
      "Optimization terminated successfully.\n",
      "         Current function value: 2.842678\n",
      "         Iterations: 25\n",
      "         Function evaluations: 39\n",
      "         Gradient evaluations: 39\n",
      "Optimization terminated successfully.\n",
      "         Current function value: 13.154049\n",
      "         Iterations: 4\n",
      "         Function evaluations: 8\n",
      "         Gradient evaluations: 8\n",
      "Optimization terminated successfully.\n",
      "         Current function value: 19.443963\n",
      "         Iterations: 4\n",
      "         Function evaluations: 8\n",
      "         Gradient evaluations: 8\n",
      "Optimization terminated successfully.\n",
      "         Current function value: 20.098522\n",
      "         Iterations: 4\n",
      "         Function evaluations: 8\n",
      "         Gradient evaluations: 8\n",
      "Optimization terminated successfully.\n",
      "         Current function value: 18.172859\n",
      "         Iterations: 8\n",
      "         Function evaluations: 15\n",
      "         Gradient evaluations: 15\n",
      "Optimization terminated successfully.\n",
      "         Current function value: 22.609405\n",
      "         Iterations: 10\n",
      "         Function evaluations: 16\n",
      "         Gradient evaluations: 16\n",
      "Optimization terminated successfully.\n",
      "         Current function value: 23.261462\n",
      "         Iterations: 6\n",
      "         Function evaluations: 12\n",
      "         Gradient evaluations: 12\n",
      "Optimization terminated successfully.\n",
      "         Current function value: 24.317250\n",
      "         Iterations: 6\n",
      "         Function evaluations: 12\n",
      "         Gradient evaluations: 12\n",
      "Optimization terminated successfully.\n",
      "         Current function value: 22.373906\n",
      "         Iterations: 18\n",
      "         Function evaluations: 28\n",
      "         Gradient evaluations: 28\n"
     ]
    }
   ],
   "source": [
    "m,n=linx.shape\n",
    "lmbda=0\n",
    "theta=np.ones((n,1))\n",
    "trainerror=np.zeros(0)\n",
    "cverror=np.zeros(1)\n",
    "\n",
    "for i in range(1,len(y)+1):\n",
    "    newx=linx[0:i,:]\n",
    "    newy=y[0:i,:]\n",
    "    theta=trainlinear(theta,newx,newy,lmbda)\n",
    "    trainerror=np.append(trainerror,np.array(costfunction(theta,newx,newy,0)))\n",
    "    cverror=np.append(cverror,np.array(costfunction(theta,Xval,yval,0)))\n"
   ]
  },
  {
   "cell_type": "code",
   "execution_count": 602,
   "metadata": {},
   "outputs": [
    {
     "data": {
      "image/png": "[encoded data removed]",
      "text/plain": [
       "<Figure size 432x288 with 1 Axes>"
      ]
     },
     "metadata": {
      "needs_background": "light"
     },
     "output_type": "display_data"
    }
   ],
   "source": [
    "plt.plot(list(range(2,len(trainerror)+1)),trainerror[1:],label='Train')\n",
    "plt.plot(list(range(2,len(cverror)+1)),cverror[1:],label='CV')\n",
    "plt.legend()\n",
    "plt.show()"
   ]
  },
  {
   "cell_type": "code",
   "execution_count": 696,
   "metadata": {},
   "outputs": [
    {
     "name": "stdout",
     "output_type": "stream",
     "text": [
      "[-5.08542635e+00  8.48904834e+02 -1.28290173e+04  1.28967789e+06\n",
      " -2.98314592e+07  2.29330301e+09 -6.84527284e+10  4.42233759e+12] [2.99644020e+01 7.87889103e+02 4.81896178e+04 1.73490431e+06\n",
      " 9.39392040e+07 3.85345373e+09 1.97934705e+11 8.68896800e+12]\n",
      "[ 1.         -0.36214078 -0.75508669  0.18222588 -0.70618991  0.30661792\n",
      " -0.59087767  0.3445158  -0.50848117]\n"
     ]
    }
   ],
   "source": [
    "#poly regression\n",
    "m=len(y)\n",
    "ones=np.ones([m,1])\n",
    "#map X ontp poly features and Normalize\n",
    "X_poly=featuremapping(X,8)\n",
    "X_poly,mu,sigma=featurenormalize(X_poly)\n",
    "print(mu,sigma)\n",
    "X_poly=np.hstack((ones,X_poly))\n",
    "m,n=X_poly.shape\n",
    "print(X_poly[0,:])\n"
   ]
  },
  {
   "cell_type": "code",
   "execution_count": 725,
   "metadata": {},
   "outputs": [],
   "source": [
    "#map X ontp polytest and  features and Normalize\n",
    "ones=np.ones([Xtest.shape[0],1])\n",
    "X_poly_test=featuremapping(Xtest,8)\n",
    "X_poly_test-=mu\n",
    "X_poly_test/=sigma\n",
    "X_poly_test=np.hstack((ones,X_poly_test))\n",
    "\n",
    "\n",
    "X_poly_val=featuremapping(Xval,8)\n",
    "X_poly_val-=mu\n",
    "X_poly_val/=sigma\n",
    "ones=np.ones([Xval.shape[0],1])\n",
    "X_poly_val=np.hstack((ones,X_poly_val))"
   ]
  },
  {
   "cell_type": "code",
   "execution_count": 648,
   "metadata": {},
   "outputs": [
    {
     "name": "stdout",
     "output_type": "stream",
     "text": [
      "(12, 9) (12, 1) (9, 1)\n",
      "104.63216207771355\n",
      "Warning: Maximum number of iterations has been exceeded.\n",
      "         Current function value: 0.043883\n",
      "         Iterations: 100\n",
      "         Function evaluations: 217\n",
      "         Gradient evaluations: 217\n",
      "[[ 11.21324415]\n",
      " [ 10.86351057]\n",
      " [ 20.33118704]\n",
      " [ 17.47047514]\n",
      " [-38.03023966]\n",
      " [-42.11478801]\n",
      " [ 34.03455951]\n",
      " [ 33.26147356]\n",
      " [ -3.05769856]]\n"
     ]
    },
    {
     "data": {
      "text/plain": [
       "0.043882853074015904"
      ]
     },
     "execution_count": 648,
     "metadata": {},
     "output_type": "execute_result"
    }
   ],
   "source": [
    "theta=np.ones((X_poly.shape[1],1))\n",
    "print(X_poly.shape,y.shape,theta.shape)\n",
    "print(costfunction(theta,X_poly,y,0))\n",
    "newtheta=trainlinear(theta,X_poly,y,0)\n",
    "print(newtheta)\n",
    "costfunction(newtheta,X_poly,y,0)"
   ]
  },
  {
   "cell_type": "code",
   "execution_count": 683,
   "metadata": {},
   "outputs": [
    {
     "name": "stdout",
     "output_type": "stream",
     "text": [
      "[[ -1.93474253   3.9694814   -4.93714476 ...  15.72130595 -19.68501541\n",
      "   28.26496052]\n",
      " [ -1.93307389   3.96148105  -4.92477717 ...  15.64383484 -19.57410084\n",
      "   28.08294513]\n",
      " [ -1.93140524   3.95348706  -4.91242919 ...  15.5666705  -19.46371311\n",
      "   27.90193798]\n",
      " ...\n",
      " [  2.25189199   3.8631748    5.30604989 ...  14.71182042  18.93842898\n",
      "   25.91615408]\n",
      " [  2.25356064   3.87109675   5.3181763  ...  14.78556955  19.04298022\n",
      "   26.08604577]\n",
      " [  2.25522928   3.87902504   5.33032214 ...  14.85961456  19.14803498\n",
      "   26.25689241]]\n"
     ]
    },
    {
     "data": {
      "image/png": "[encoded data removed]",
      "text/plain": [
       "<Figure size 432x288 with 1 Axes>"
      ]
     },
     "metadata": {
      "needs_background": "light"
     },
     "output_type": "display_data"
    }
   ],
   "source": [
    "plt.scatter(X,y)\n",
    "plotfit(np.min(X),np.max(X),mu,sigma,newtheta,8)"
   ]
  },
  {
   "cell_type": "code",
   "execution_count": 682,
   "metadata": {},
   "outputs": [],
   "source": [
    "def plotfit(min_x,max_x,mu,sigma,theta,p):\n",
    "    x = np.arange(min_x - 15, max_x + 25, 0.05).reshape(-1, 1)\n",
    "    x_poly=featuremapping(x,p)\n",
    "    x_poly=x_poly-mu\n",
    "    x_poly=x_poly/(sigma)\n",
    "    ones=np.ones((x_poly.shape[0],1))\n",
    "    #add ones \n",
    "    print(x_poly)\n",
    "    x_poly=np.hstack((ones,x_poly))\n",
    "    #print(x_poly.shape)\n",
    "    #print(np.dot(x_poly,theta))\n",
    "    plt.scatter(X,y)\n",
    "    plt.plot(x,np.dot(x_poly,theta),'--',lw=2)"
   ]
  },
  {
   "cell_type": "code",
   "execution_count": 771,
   "metadata": {},
   "outputs": [
    {
     "name": "stdout",
     "output_type": "stream",
     "text": [
      "Warning: Desired error not necessarily achieved due to precision loss.\n",
      "         Current function value: 2.986166\n",
      "         Iterations: 1\n",
      "         Function evaluations: 100\n",
      "         Gradient evaluations: 88\n",
      "Warning: Desired error not necessarily achieved due to precision loss.\n",
      "         Current function value: 1.336998\n",
      "         Iterations: 1\n",
      "         Function evaluations: 107\n",
      "         Gradient evaluations: 95\n",
      "Warning: Desired error not necessarily achieved due to precision loss.\n",
      "         Current function value: 26.094624\n",
      "         Iterations: 2\n",
      "         Function evaluations: 115\n",
      "         Gradient evaluations: 103\n",
      "Warning: Desired error not necessarily achieved due to precision loss.\n",
      "         Current function value: 19.012936\n",
      "         Iterations: 6\n",
      "         Function evaluations: 130\n",
      "         Gradient evaluations: 118\n",
      "Warning: Desired error not necessarily achieved due to precision loss.\n",
      "         Current function value: 14.378296\n",
      "         Iterations: 7\n",
      "         Function evaluations: 110\n",
      "         Gradient evaluations: 98\n",
      "Warning: Desired error not necessarily achieved due to precision loss.\n",
      "         Current function value: 11.362757\n",
      "         Iterations: 19\n",
      "         Function evaluations: 83\n",
      "         Gradient evaluations: 73\n",
      "Warning: Desired error not necessarily achieved due to precision loss.\n",
      "         Current function value: 10.319667\n",
      "         Iterations: 7\n",
      "         Function evaluations: 125\n",
      "         Gradient evaluations: 113\n",
      "Warning: Desired error not necessarily achieved due to precision loss.\n",
      "         Current function value: 8.982378\n",
      "         Iterations: 8\n",
      "         Function evaluations: 62\n",
      "         Gradient evaluations: 52\n",
      "Warning: Desired error not necessarily achieved due to precision loss.\n",
      "         Current function value: 8.452277\n",
      "         Iterations: 9\n",
      "         Function evaluations: 83\n",
      "         Gradient evaluations: 72\n",
      "Warning: Desired error not necessarily achieved due to precision loss.\n",
      "         Current function value: 19.959790\n",
      "         Iterations: 2\n",
      "         Function evaluations: 49\n",
      "         Gradient evaluations: 38\n",
      "Warning: Desired error not necessarily achieved due to precision loss.\n",
      "         Current function value: 6.787427\n",
      "         Iterations: 8\n",
      "         Function evaluations: 136\n",
      "         Gradient evaluations: 124\n",
      "Warning: Desired error not necessarily achieved due to precision loss.\n",
      "         Current function value: 8.710391\n",
      "         Iterations: 4\n",
      "         Function evaluations: 111\n",
      "         Gradient evaluations: 99\n"
     ]
    }
   ],
   "source": [
    "#learning curves\n",
    "m,n=X_poly.shape\n",
    "lmbda=1\n",
    "theta=np.ones((n,1))\n",
    "trainerror=np.zeros(0)\n",
    "cverror=np.zeros(0)\n",
    "\n",
    "for i in range(1,len(y)+1):\n",
    "    newx=X_poly[0:i,:]\n",
    "    newy=y[0:i,:]\n",
    "    theta=trainlinear(theta,newx,newy,lmbda)\n",
    "    trainerror=np.append(trainerror,np.array(costfunction(theta,newx,newy,0)))\n",
    "    cverror=np.append(cverror,np.array(costfunction(theta,X_poly_val,yval,0)))\n"
   ]
  },
  {
   "cell_type": "code",
   "execution_count": 772,
   "metadata": {},
   "outputs": [
    {
     "data": {
      "image/png": "[encoded data removed]",
      "text/plain": [
       "<Figure size 432x288 with 1 Axes>"
      ]
     },
     "metadata": {
      "needs_background": "light"
     },
     "output_type": "display_data"
    }
   ],
   "source": [
    "plt.plot(list(range(2,len(trainerror)+1)),trainerror[1:],label='Train')\n",
    "plt.plot(list(range(2,len(cverror)+1)),cverror[1:],label='CV')\n",
    "plt.legend()\n",
    "plt.show()"
   ]
  },
  {
   "cell_type": "code",
   "execution_count": 693,
   "metadata": {},
   "outputs": [
    {
     "name": "stdout",
     "output_type": "stream",
     "text": [
      "[134.73014493 134.06173037 120.8672745  114.22353847 108.49189691\n",
      " 129.72183471 106.62137647 102.99943339 116.9335789  118.65545036\n",
      " 115.05359719 121.45928553]\n"
     ]
    }
   ],
   "source": [
    "print(cverror)"
   ]
  },
  {
   "cell_type": "code",
   "execution_count": 694,
   "metadata": {},
   "outputs": [
    {
     "name": "stdout",
     "output_type": "stream",
     "text": [
      "[9.86076132e-32 6.16297582e-32 3.07788182e-11 5.52627689e-11\n",
      " 4.20367102e-10 1.58372468e-08 3.15104112e-02 6.99722278e-02\n",
      " 1.59902659e-01 9.93170597e-02 1.85663404e-01 4.38828531e-02]\n"
     ]
    }
   ],
   "source": [
    "print(trainerror)"
   ]
  },
  {
   "cell_type": "code",
   "execution_count": 786,
   "metadata": {},
   "outputs": [
    {
     "name": "stdout",
     "output_type": "stream",
     "text": [
      "Warning: Desired error not necessarily achieved due to precision loss.\n",
      "         Current function value: 29.157750\n",
      "         Iterations: 2\n",
      "         Function evaluations: 113\n",
      "         Gradient evaluations: 101\n",
      "[[ -1.93474253   3.9694814   -4.93714476 ...  15.72130595 -19.68501541\n",
      "   28.26496052]\n",
      " [ -1.93307389   3.96148105  -4.92477717 ...  15.64383484 -19.57410084\n",
      "   28.08294513]\n",
      " [ -1.93140524   3.95348706  -4.91242919 ...  15.5666705  -19.46371311\n",
      "   27.90193798]\n",
      " ...\n",
      " [  2.25189199   3.8631748    5.30604989 ...  14.71182042  18.93842898\n",
      "   25.91615408]\n",
      " [  2.25356064   3.87109675   5.3181763  ...  14.78556955  19.04298022\n",
      "   26.08604577]\n",
      " [  2.25522928   3.87902504   5.33032214 ...  14.85961456  19.14803498\n",
      "   26.25689241]]\n"
     ]
    },
    {
     "data": {
      "image/png": "[encoded data removed]",
      "text/plain": [
       "<Figure size 432x288 with 1 Axes>"
      ]
     },
     "metadata": {
      "needs_background": "light"
     },
     "output_type": "display_data"
    }
   ],
   "source": [
    "#let's plot for lmbda=100\n",
    "theta=np.ones((X_poly.shape[1],1))\n",
    "p=8\n",
    "lmbda=3\n",
    "newtheta=trainlinear(theta,X_poly,y,lmbda)\n",
    "plt.plot(X,y,'ro',ms=10,mew=1.5,mec='k')\n",
    "plotfit(np.min(X),np.max(X),mu,sigma,newtheta,8)"
   ]
  },
  {
   "cell_type": "code",
   "execution_count": 732,
   "metadata": {},
   "outputs": [
    {
     "data": {
      "text/plain": [
       "array([[ 1.00000000e+00, -3.62140776e-01, -7.55086688e-01,\n",
       "         1.82225876e-01, -7.06189908e-01,  3.06617917e-01,\n",
       "        -5.90877673e-01,  3.44515797e-01, -5.08481165e-01],\n",
       "       [ 1.00000000e+00, -8.03204845e-01,  1.25825266e-03,\n",
       "        -2.47936991e-01, -3.27023420e-01,  9.33963187e-02,\n",
       "        -4.35817606e-01,  2.55416116e-01, -4.48912493e-01],\n",
       "       [ 1.00000000e+00,  1.37746700e+00,  5.84826715e-01,\n",
       "         1.24976856e+00,  2.45311974e-01,  9.78359696e-01,\n",
       "        -1.21556976e-02,  7.56568484e-01, -1.70352114e-01],\n",
       "       [ 1.00000000e+00,  1.42093988e+00,  7.06646754e-01,\n",
       "         1.35984559e+00,  3.95534038e-01,  1.10616178e+00,\n",
       "         1.25637135e-01,  8.71929081e-01, -5.96376930e-02],\n",
       "       [ 1.00000000e+00, -1.43414853e+00,  1.85399982e+00,\n",
       "        -2.03716308e+00,  2.33143133e+00, -2.41153626e+00,\n",
       "         2.60221195e+00, -2.64567451e+00,  2.76608525e+00],\n",
       "       [ 1.00000000e+00, -1.28687086e-01, -9.75968776e-01,\n",
       "         2.51385075e-01, -7.39686869e-01,  3.16952928e-01,\n",
       "        -5.94996630e-01,  3.45811812e-01, -5.08955348e-01],\n",
       "       [ 1.00000000e+00,  6.80581552e-01, -7.80028951e-01,\n",
       "         3.40655738e-01, -7.11721115e-01,  3.26509131e-01,\n",
       "        -5.91790179e-01,  3.46829996e-01, -5.08613048e-01],\n",
       "       [ 1.00000000e+00, -9.88534310e-01,  4.51358004e-01,\n",
       "        -6.01281871e-01,  9.29171228e-02, -2.18472948e-01,\n",
       "        -1.41608474e-01,  3.94034925e-02, -2.66692688e-01],\n",
       "       [ 1.00000000e+00,  2.16075753e-01, -1.07499276e+00,\n",
       "         2.66275156e-01, -7.43369047e-01,  3.17561391e-01,\n",
       "        -5.95129245e-01,  3.45834898e-01, -5.08960051e-01],\n",
       "       [ 1.00000000e+00, -1.31150068e+00,  1.42280595e+00,\n",
       "        -1.54812094e+00,  1.49339625e+00, -1.51590767e+00,\n",
       "         1.38865478e+00, -1.36830664e+00,  1.22414353e+00],\n",
       "       [ 1.00000000e+00,  4.03776736e-01, -1.01501039e+00,\n",
       "         2.73378511e-01, -7.41976547e-01,  3.17741982e-01,\n",
       "        -5.95098361e-01,  3.45839115e-01, -5.08959377e-01],\n",
       "       [ 1.00000000e+00,  9.29375305e-01, -4.19807932e-01,\n",
       "         5.10968368e-01, -5.88623813e-01,  3.82615735e-01,\n",
       "        -5.59030004e-01,  3.61832357e-01, -5.00664801e-01]])"
      ]
     },
     "execution_count": 732,
     "metadata": {},
     "output_type": "execute_result"
    }
   ],
   "source": []
  },
  {
   "cell_type": "code",
   "execution_count": 858,
   "metadata": {},
   "outputs": [
    {
     "name": "stdout",
     "output_type": "stream",
     "text": [
      "Warning: Maximum number of iterations has been exceeded.\n",
      "         Current function value: 0.037773\n",
      "         Iterations: 100\n",
      "         Function evaluations: 227\n",
      "         Gradient evaluations: 227\n",
      "Warning: Desired error not necessarily achieved due to precision loss.\n",
      "         Current function value: 0.207222\n",
      "         Iterations: 99\n",
      "         Function evaluations: 266\n",
      "         Gradient evaluations: 255\n",
      "Warning: Desired error not necessarily achieved due to precision loss.\n",
      "         Current function value: 0.276834\n",
      "         Iterations: 56\n",
      "         Function evaluations: 154\n",
      "         Gradient evaluations: 143\n",
      "Warning: Desired error not necessarily achieved due to precision loss.\n",
      "         Current function value: 0.400328\n",
      "         Iterations: 35\n",
      "         Function evaluations: 165\n",
      "         Gradient evaluations: 153\n",
      "Warning: Desired error not necessarily achieved due to precision loss.\n",
      "         Current function value: 0.849575\n",
      "         Iterations: 11\n",
      "         Function evaluations: 70\n",
      "         Gradient evaluations: 59\n",
      "Warning: Desired error not necessarily achieved due to precision loss.\n",
      "         Current function value: 1.489623\n",
      "         Iterations: 11\n",
      "         Function evaluations: 108\n",
      "         Gradient evaluations: 95\n",
      "Warning: Desired error not necessarily achieved due to precision loss.\n",
      "         Current function value: 3.188533\n",
      "         Iterations: 12\n",
      "         Function evaluations: 60\n",
      "         Gradient evaluations: 48\n",
      "Warning: Desired error not necessarily achieved due to precision loss.\n",
      "         Current function value: 7.706378\n",
      "         Iterations: 10\n",
      "         Function evaluations: 65\n",
      "         Gradient evaluations: 54\n",
      "Warning: Desired error not necessarily achieved due to precision loss.\n",
      "         Current function value: 19.336067\n",
      "         Iterations: 5\n",
      "         Function evaluations: 53\n",
      "         Gradient evaluations: 42\n",
      "Warning: Desired error not necessarily achieved due to precision loss.\n",
      "         Current function value: 54.145738\n",
      "         Iterations: 5\n",
      "         Function evaluations: 151\n",
      "         Gradient evaluations: 139\n"
     ]
    }
   ],
   "source": [
    "#learning curves for different lmnbda\n",
    "lmbdavec=[0, 0.001, 0.003, 0.01, 0.03, 0.1, 0.3, 1, 3, 10]\n",
    "#learning curves\n",
    "m,n=X_poly.shape\n",
    "lmbda=1\n",
    "theta=np.ones((n,1))\n",
    "trainerror=np.zeros(0)\n",
    "cverror=np.zeros(0)\n",
    "for i in range(len(lmbdavec)):\n",
    "    newtheta=trainlinear(theta,X_poly,y,lmbdavec[i])\n",
    "    trainerror=np.append(trainerror,np.array(costfunction(newtheta,X_poly,y,lmbdavec[i])))\n",
    "    cverror=np.append(cverror,np.array(costfunction(newtheta,X_poly_val,yval,lmbdavec[i])))"
   ]
  },
  {
   "cell_type": "code",
   "execution_count": 859,
   "metadata": {},
   "outputs": [
    {
     "data": {
      "text/plain": [
       "[<matplotlib.lines.Line2D at 0x182172131d0>]"
      ]
     },
     "execution_count": 859,
     "metadata": {},
     "output_type": "execute_result"
    },
    {
     "data": {
      "image/png": "[encoded data removed]",
      "text/plain": [
       "<Figure size 432x288 with 1 Axes>"
      ]
     },
     "metadata": {
      "needs_background": "light"
     },
     "output_type": "display_data"
    }
   ],
   "source": [
    "plt.plot(lmbdavec,trainerror)\n",
    "plt.plot(lmbdavec,cverror)"
   ]
  },
  {
   "cell_type": "code",
   "execution_count": 860,
   "metadata": {},
   "outputs": [],
   "source": [
    "theta=np.ones((n,1))\n",
    "nretheta=newtrainlinear(theta,X_poly,y,0)"
   ]
  },
  {
   "cell_type": "code",
   "execution_count": 838,
   "metadata": {},
   "outputs": [
    {
     "data": {
      "text/plain": [
       "array([ 11.21758931,   9.51981169,  18.95578055,  30.38374823,\n",
       "       -28.26470076, -78.23457188,   6.63981521,  63.75566778,\n",
       "        21.90228173])"
      ]
     },
     "execution_count": 838,
     "metadata": {},
     "output_type": "execute_result"
    }
   ],
   "source": [
    "nretheta"
   ]
  },
  {
   "cell_type": "code",
   "execution_count": 848,
   "metadata": {},
   "outputs": [
    {
     "data": {
      "text/plain": [
       "<function scipy.optimize._minimize.minimize(fun, x0, args=(), method=None, jac=None, hess=None, hessp=None, bounds=None, constraints=(), tol=None, callback=None, options=None)>"
      ]
     },
     "execution_count": 848,
     "metadata": {},
     "output_type": "execute_result"
    }
   ],
   "source": [
    "optimize.minimize"
   ]
  },
  {
   "cell_type": "code",
   "execution_count": null,
   "metadata": {},
   "outputs": [],
   "source": []
  }
 ],
 "metadata": {
  "kernelspec": {
   "display_name": "Python 3",
   "language": "python",
   "name": "python3"
  },
  "language_info": {
   "codemirror_mode": {
    "name": "ipython",
    "version": 3
   },
   "file_extension": ".py",
   "mimetype": "text/x-python",
   "name": "python",
   "nbconvert_exporter": "python",
   "pygments_lexer": "ipython3",
   "version": "3.7.0"
  }
 },
 "nbformat": 4,
 "nbformat_minor": 2
}
