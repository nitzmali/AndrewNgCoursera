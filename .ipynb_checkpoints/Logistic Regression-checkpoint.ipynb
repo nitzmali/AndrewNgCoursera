{
 "cells": [
  {
   "cell_type": "code",
   "execution_count": 128,
   "metadata": {},
   "outputs": [],
   "source": [
    "#Logistic regression with multi-variables\n",
    "\n",
    "import numpy as np\n",
    "import pandas as pd\n",
    "from matplotlib import pyplot as plt\n",
    "data = pd.read_csv('machine-learning-ex2/ex2/ex2data1.txt',header=None)\n",
    "\n",
    "X=data.iloc[:,0:2]\n",
    "y=data.iloc[:,2]\n",
    "m=len(y)"
   ]
  },
  {
   "cell_type": "code",
   "execution_count": 129,
   "metadata": {},
   "outputs": [
    {
     "data": {
      "image/png": "[encoded data removed]",
      "text/plain": [
       "<Figure size 432x288 with 1 Axes>"
      ]
     },
     "metadata": {
      "needs_background": "light"
     },
     "output_type": "display_data"
    }
   ],
   "source": [
    "mask=y==1\n",
    "#X.loc[mask][1]\n",
    "adm=plt.scatter(X.loc[mask][0],X.loc[mask][1])\n",
    "not_dm=plt.scatter(X.loc[~mask][0],X.loc[~mask][1])\n",
    "plt.xlabel('Exam score 1')\n",
    "plt.ylabel('Exam Score 2')\n",
    "plt.legend((adm,not_dm),('Admitted','Not Admitted'))\n",
    "plt.show()"
   ]
  },
  {
   "cell_type": "code",
   "execution_count": 130,
   "metadata": {},
   "outputs": [],
   "source": [
    "m,n=X.shape\n",
    "X=np.hstack((np.ones((m,1)),X))\n",
    "y=y[:,np.newaxis]\n",
    "theta =np.zeros((n+1,1))\n"
   ]
  },
  {
   "cell_type": "code",
   "execution_count": 131,
   "metadata": {},
   "outputs": [],
   "source": [
    "#define sigmoid function\n",
    "import math\n",
    "\n",
    "def sigmoid(x):\n",
    "    return 1/(1+np.exp(-x))"
   ]
  },
  {
   "cell_type": "code",
   "execution_count": 132,
   "metadata": {},
   "outputs": [],
   "source": [
    "def costfun(X,theta,y):\n",
    "    temp1=np.multiply(y,np.log(sigmoid(X@theta)))\n",
    "    temp2=np.multiply((1-y),np.log(1-sigmoid(X@theta)))\n",
    "    return -(np.sum(temp1+temp2))/len(y)\n",
    "    "
   ]
  },
  {
   "cell_type": "code",
   "execution_count": 161,
   "metadata": {},
   "outputs": [],
   "source": [
    "def gradient(X,theta,y):\n",
    "    for _ in range(10000000):\n",
    "        temp=(np.dot(X.T,(sigmoid(X@theta)-y)))/len(y)\n",
    "        theta=theta-((0.001)*temp)\n",
    "    return theta"
   ]
  },
  {
   "cell_type": "code",
   "execution_count": 162,
   "metadata": {},
   "outputs": [
    {
     "data": {
      "text/plain": [
       "0.6931471805599453"
      ]
     },
     "execution_count": 162,
     "metadata": {},
     "output_type": "execute_result"
    }
   ],
   "source": [
    "costfun(X,theta,y)"
   ]
  },
  {
   "cell_type": "code",
   "execution_count": 164,
   "metadata": {},
   "outputs": [
    {
     "data": {
      "text/plain": [
       "array([[-24.73684959],\n",
       "       [  0.2028365 ],\n",
       "       [  0.19803678]])"
      ]
     },
     "execution_count": 164,
     "metadata": {},
     "output_type": "execute_result"
    }
   ],
   "source": [
    "newtheta=gradient(X,theta,y)\n",
    "newtheta"
   ]
  },
  {
   "cell_type": "code",
   "execution_count": 165,
   "metadata": {},
   "outputs": [
    {
     "data": {
      "text/plain": [
       "0.2035248904482787"
      ]
     },
     "execution_count": 165,
     "metadata": {},
     "output_type": "execute_result"
    }
   ],
   "source": [
    "costfun(X,newtheta,y)"
   ]
  },
  {
   "cell_type": "code",
   "execution_count": null,
   "metadata": {},
   "outputs": [],
   "source": [
    "#now optimize the theta using the other algorithms\n",
    "\n",
    "'''This time, instead of taking the gradient descent steps, we will use a built-in function fmin_tnc from scipy library.\n",
    "\n",
    "fmin_tnc is an optimization solver that finds the minimum of an unconstrained function. For logistic regression, you want to optimize the cost function with the parameters theta.'''"
   ]
  },
  {
   "cell_type": "code",
   "execution_count": null,
   "metadata": {},
   "outputs": [],
   "source": [
    "'''Concretely, you are going to use fmin_tnc to find the best or optimal parameters theta for the logistic regression cost function, \n",
    "given a fixed dataset (of X and y values). You will pass to fmin_tnc the following inputs:\n",
    "\n",
    "The initial values of the parameters we are trying to optimize.\n",
    "A function that, when given the training set and a particular theta, computes the logistic regression cost and gradient with respect to theta for the dataset (X, y).'''"
   ]
  },
  {
   "cell_type": "code",
   "execution_count": 166,
   "metadata": {},
   "outputs": [
    {
     "data": {
      "text/plain": [
       "array([[-24.73684959],\n",
       "       [  0.2028365 ],\n",
       "       [  0.19803678]])"
      ]
     },
     "execution_count": 166,
     "metadata": {},
     "output_type": "execute_result"
    }
   ],
   "source": [
    "newtheta"
   ]
  },
  {
   "cell_type": "code",
   "execution_count": 185,
   "metadata": {},
   "outputs": [
    {
     "name": "stdout",
     "output_type": "stream",
     "text": [
      "0.2035248904482787\n"
     ]
    }
   ],
   "source": [
    "J = costfun(X,newtheta, y)\n",
    "print(J)"
   ]
  },
  {
   "cell_type": "code",
   "execution_count": null,
   "metadata": {},
   "outputs": [],
   "source": [
    "plot_x = [np.min(X[:,1]-2), np.max(X[:,2]+2)]\n",
    "plot_y = -1/newtheta[2]*(newtheta[0] \n",
    "          + np.dot(newtheta[1],plot_x))  \n",
    "mask = y.flatten() == 1\n",
    "adm = plt.scatter(X[mask][:,1], X[mask][:,2])\n",
    "not_adm = plt.scatter(X[~mask][:,1], X[~mask][:,2])\n",
    "decision_boun = plt.plot(plot_x, plot_y)\n",
    "plt.xlabel('Exam 1 score')\n",
    "plt.ylabel('Exam 2 score')\n",
    "plt.legend((adm, not_adm), ('Admitted', 'Not admitted'))\n",
    "plt.show()"
   ]
  },
  {
   "cell_type": "code",
   "execution_count": 256,
   "metadata": {},
   "outputs": [],
   "source": [
    "plot_x = np.array([np.min(X[:,1]-2), np.max(X[:,2]+2)])\n",
    "plot_x=np.hstack((np.ones((1)),plot_x))\n",
    "plot_x=np.expand_dims(plot_x,axis=1)\n",
    "plot_y = -1/newtheta[2]*(newtheta[0] \n",
    "          + np.dot(newtheta[1],plot_x.T))"
   ]
  },
  {
   "cell_type": "code",
   "execution_count": 257,
   "metadata": {},
   "outputs": [
    {
     "data": {
      "text/plain": [
       "[<matplotlib.lines.Line2D at 0x2118e5cea90>]"
      ]
     },
     "execution_count": 257,
     "metadata": {},
     "output_type": "execute_result"
    },
    {
     "data": {
      "image/png": "[encoded data removed]",
      "text/plain": [
       "<Figure size 432x288 with 1 Axes>"
      ]
     },
     "metadata": {
      "needs_background": "light"
     },
     "output_type": "display_data"
    }
   ],
   "source": [
    "plt.plot(plot_x,plot_y) "
   ]
  },
  {
   "cell_type": "code",
   "execution_count": 251,
   "metadata": {},
   "outputs": [
    {
     "data": {
      "text/plain": [
       "array([123.88614733,  96.17151224,  21.59622047])"
      ]
     },
     "execution_count": 251,
     "metadata": {},
     "output_type": "execute_result"
    }
   ],
   "source": [
    "plot_y"
   ]
  },
  {
   "cell_type": "code",
   "execution_count": 248,
   "metadata": {},
   "outputs": [
    {
     "data": {
      "text/plain": [
       "(3, 1)"
      ]
     },
     "execution_count": 248,
     "metadata": {},
     "output_type": "execute_result"
    }
   ],
   "source": [
    "newtheta.shape"
   ]
  },
  {
   "cell_type": "code",
   "execution_count": 225,
   "metadata": {},
   "outputs": [
    {
     "data": {
      "text/plain": [
       "(2,)"
      ]
     },
     "execution_count": 225,
     "metadata": {},
     "output_type": "execute_result"
    }
   ],
   "source": []
  },
  {
   "cell_type": "code",
   "execution_count": 153,
   "metadata": {},
   "outputs": [],
   "source": [
    "#logistic pratice 2\n",
    "import numpy as np\n",
    "import pandas as pd\n",
    "from matplotlib import pyplot as plt\n",
    "data = pd.read_csv('machine-learning-ex2/ex2/ex2data1.txt',header=None)\n"
   ]
  },
  {
   "cell_type": "code",
   "execution_count": 154,
   "metadata": {},
   "outputs": [
    {
     "data": {
      "text/html": [
       "<div>\n",
       "<style scoped>\n",
       "    .dataframe tbody tr th:only-of-type {\n",
       "        vertical-align: middle;\n",
       "    }\n",
       "\n",
       "    .dataframe tbody tr th {\n",
       "        vertical-align: top;\n",
       "    }\n",
       "\n",
       "    .dataframe thead th {\n",
       "        text-align: right;\n",
       "    }\n",
       "</style>\n",
       "<table border=\"1\" class=\"dataframe\">\n",
       "  <thead>\n",
       "    <tr style=\"text-align: right;\">\n",
       "      <th></th>\n",
       "      <th>0</th>\n",
       "      <th>1</th>\n",
       "      <th>2</th>\n",
       "    </tr>\n",
       "  </thead>\n",
       "  <tbody>\n",
       "    <tr>\n",
       "      <th>0</th>\n",
       "      <td>34.623660</td>\n",
       "      <td>78.024693</td>\n",
       "      <td>0</td>\n",
       "    </tr>\n",
       "    <tr>\n",
       "      <th>1</th>\n",
       "      <td>30.286711</td>\n",
       "      <td>43.894998</td>\n",
       "      <td>0</td>\n",
       "    </tr>\n",
       "    <tr>\n",
       "      <th>2</th>\n",
       "      <td>35.847409</td>\n",
       "      <td>72.902198</td>\n",
       "      <td>0</td>\n",
       "    </tr>\n",
       "    <tr>\n",
       "      <th>3</th>\n",
       "      <td>60.182599</td>\n",
       "      <td>86.308552</td>\n",
       "      <td>1</td>\n",
       "    </tr>\n",
       "    <tr>\n",
       "      <th>4</th>\n",
       "      <td>79.032736</td>\n",
       "      <td>75.344376</td>\n",
       "      <td>1</td>\n",
       "    </tr>\n",
       "  </tbody>\n",
       "</table>\n",
       "</div>"
      ],
      "text/plain": [
       "           0          1  2\n",
       "0  34.623660  78.024693  0\n",
       "1  30.286711  43.894998  0\n",
       "2  35.847409  72.902198  0\n",
       "3  60.182599  86.308552  1\n",
       "4  79.032736  75.344376  1"
      ]
     },
     "execution_count": 154,
     "metadata": {},
     "output_type": "execute_result"
    }
   ],
   "source": [
    "X=data.iloc[:,:-1]\n",
    "y=data.iloc[:,2]\n",
    "data.head()"
   ]
  },
  {
   "cell_type": "code",
   "execution_count": 155,
   "metadata": {},
   "outputs": [],
   "source": [
    "#visualize the data\n",
    "mask=y==1\n",
    "m=len(y)"
   ]
  },
  {
   "cell_type": "code",
   "execution_count": 156,
   "metadata": {},
   "outputs": [
    {
     "data": {
      "image/png": "[encoded data removed]",
      "text/plain": [
       "<Figure size 432x288 with 1 Axes>"
      ]
     },
     "metadata": {
      "needs_background": "light"
     },
     "output_type": "display_data"
    }
   ],
   "source": [
    "adm =plt.scatter(X[mask][0].values,X[mask][1].values)\n",
    "not_adm =plt.scatter(X[~mask][0].values,X[~mask][1].values)\n",
    "plt.xlabel('Exam 1 score')\n",
    "plt.ylabel('Exam 2 score')\n",
    "plt.legend((adm,not_adm),('Admitted','Not admitted'))\n",
    "plt.show()"
   ]
  },
  {
   "cell_type": "code",
   "execution_count": 157,
   "metadata": {},
   "outputs": [],
   "source": [
    "def sigmoid(X):\n",
    "    return 1/(1+np.exp(-X))"
   ]
  },
  {
   "cell_type": "code",
   "execution_count": 158,
   "metadata": {},
   "outputs": [],
   "source": [
    "def costfunction(theta,X,y):\n",
    "    J = (-1/m) * np.sum(np.multiply(y, np.log(sigmoid(X @ theta))) + np.multiply((1-y), np.log(1 - sigmoid(X @ theta))))\n",
    "    return J"
   ]
  },
  {
   "cell_type": "code",
   "execution_count": 164,
   "metadata": {},
   "outputs": [],
   "source": [
    "def gradient(theta,X,y):\n",
    "    return ((1/m) * X.T @ (sigmoid(X@theta)-y))"
   ]
  },
  {
   "cell_type": "code",
   "execution_count": 160,
   "metadata": {},
   "outputs": [
    {
     "name": "stdout",
     "output_type": "stream",
     "text": [
      "100 2\n"
     ]
    }
   ],
   "source": [
    "m,n=X.shape\n",
    "print(m,n)\n",
    "X=np.hstack((np.ones((m,1)),X))"
   ]
  },
  {
   "cell_type": "code",
   "execution_count": 161,
   "metadata": {},
   "outputs": [],
   "source": [
    "y=y[:,np.newaxis]\n",
    "theta=np.zeros((n+1,1))\n"
   ]
  },
  {
   "cell_type": "code",
   "execution_count": 166,
   "metadata": {},
   "outputs": [
    {
     "name": "stdout",
     "output_type": "stream",
     "text": [
      "0.6931471805599453\n"
     ]
    }
   ],
   "source": [
    "j=costfunction(theta,X,y)\n",
    "print(j)"
   ]
  },
  {
   "cell_type": "code",
   "execution_count": 167,
   "metadata": {},
   "outputs": [
    {
     "name": "stdout",
     "output_type": "stream",
     "text": [
      "[-25.16131855   0.20623159   0.20147149]\n"
     ]
    }
   ],
   "source": [
    "#look above code for gradient descent optimization\n",
    "# we will use fmin_tnc from scipy library\n",
    "#the output of above function is a tuple whose first element #contains the optimized values of theta\n",
    "\n",
    "\n",
    "import scipy.optimize as opt\n",
    "temp =opt.fmin_tnc(func=costfunction,x0=theta.flatten(),fprime=gradient,args=(X,y.flatten()))\n",
    "\n",
    "\n",
    "theta_optimized = temp[0]\n",
    "print(theta_optimized)"
   ]
  },
  {
   "cell_type": "code",
   "execution_count": 170,
   "metadata": {},
   "outputs": [
    {
     "name": "stdout",
     "output_type": "stream",
     "text": [
      "0.20349770158947486\n"
     ]
    }
   ],
   "source": [
    "J = costfunction(theta_optimized[:,np.newaxis], X, y)\n",
    "print(J)"
   ]
  },
  {
   "cell_type": "code",
   "execution_count": 173,
   "metadata": {},
   "outputs": [
    {
     "data": {
      "image/png": "[encoded data removed]",
      "text/plain": [
       "<Figure size 432x288 with 1 Axes>"
      ]
     },
     "metadata": {
      "needs_background": "light"
     },
     "output_type": "display_data"
    }
   ],
   "source": [
    "#decision boundary\n",
    "plot_x = [np.min(X[:,1]-2), np.max(X[:,2]+2)]\n",
    "plot_y = -1/theta_optimized[2]*(theta_optimized[0] \n",
    "          + np.dot(theta_optimized[1],plot_x))  \n",
    "mask = y.flatten() == 1\n",
    "adm = plt.scatter(X[mask][:,1], X[mask][:,2])\n",
    "not_adm = plt.scatter(X[~mask][:,1], X[~mask][:,2])\n",
    "decision_boun = plt.plot(plot_x, plot_y)\n",
    "plt.xlabel('Exam 1 score')\n",
    "plt.ylabel('Exam 2 score')\n",
    "plt.legend((adm, not_adm), ('Admitted', 'Not admitted'))\n",
    "plt.show()\n"
   ]
  },
  {
   "cell_type": "code",
   "execution_count": 185,
   "metadata": {},
   "outputs": [
    {
     "name": "stdout",
     "output_type": "stream",
     "text": [
      "[array([False, False, False,  True,  True, False,  True, False,  True,\n",
      "        True,  True, False,  True,  True, False,  True, False, False,\n",
      "        True,  True, False,  True, False, False,  True,  True,  True,\n",
      "        True, False, False,  True,  True, False, False, False, False,\n",
      "        True,  True, False, False,  True, False,  True,  True, False,\n",
      "       False,  True,  True,  True,  True,  True,  True,  True, False,\n",
      "       False, False,  True,  True,  True,  True,  True, False, False,\n",
      "       False, False, False,  True, False,  True,  True, False,  True,\n",
      "        True,  True,  True,  True,  True,  True, False,  True,  True,\n",
      "        True,  True, False,  True,  True, False,  True,  True, False,\n",
      "        True,  True, False,  True,  True,  True,  True,  True, False,\n",
      "        True])]\n",
      "89.0\n"
     ]
    }
   ],
   "source": [
    "#accuracy\n",
    "\n",
    "def accuracy(X, y, theta, cutoff):\n",
    "    pred = [sigmoid(np.dot(X, theta)) >= cutoff]\n",
    "    print(pred)\n",
    "    acc = np.mean(pred == y)\n",
    "    print(acc * 100)\n",
    "accuracy(X, y.flatten(), theta_optimized, 0.5)"
   ]
  },
  {
   "cell_type": "code",
   "execution_count": 186,
   "metadata": {},
   "outputs": [
    {
     "data": {
      "text/plain": [
       "array([9.10339290e-02, 4.22589667e-05, 4.39088908e-02, 9.90424697e-01,\n",
       "       9.98198750e-01, 1.07975521e-02, 9.98978138e-01, 4.23227059e-01,\n",
       "       9.99710020e-01, 7.35387957e-01, 9.09674395e-01, 2.85967740e-02,\n",
       "       9.99270142e-01, 9.99853945e-01, 1.56037085e-01, 9.80959345e-01,\n",
       "       4.27716902e-01, 1.48789238e-01, 9.99706543e-01, 5.74280762e-01,\n",
       "       6.68350395e-02, 9.98627244e-01, 7.41803068e-03, 1.01155396e-04,\n",
       "       9.91878247e-01, 8.55048632e-01, 6.00298724e-01, 8.65184830e-01,\n",
       "       9.23893097e-02, 1.68289209e-02, 8.97130764e-01, 9.81037346e-01,\n",
       "       1.54911024e-01, 3.91938615e-01, 7.41289964e-02, 3.31107866e-02,\n",
       "       8.52267970e-01, 9.87564309e-01, 2.03987786e-01, 4.95799791e-02,\n",
       "       9.70300369e-01, 6.11823904e-03, 9.99461484e-01, 5.02285125e-01,\n",
       "       4.48870646e-03, 1.37023865e-01, 9.92991802e-01, 9.99996181e-01,\n",
       "       9.99204915e-01, 9.99990761e-01, 9.98106782e-01, 9.99500487e-01,\n",
       "       9.05015909e-01, 2.80614817e-03, 8.52272268e-03, 5.28909917e-02,\n",
       "       9.99856630e-01, 6.93707645e-01, 9.85496664e-01, 9.95728611e-01,\n",
       "       9.99531647e-01, 2.22376853e-04, 3.50540645e-03, 1.27066902e-04,\n",
       "       7.16567335e-02, 4.08761468e-02, 9.44426171e-01, 1.00705521e-02,\n",
       "       9.99952447e-01, 7.09300664e-01, 6.20395620e-05, 9.77396161e-01,\n",
       "       9.99893358e-01, 8.84276399e-01, 9.05240586e-01, 9.99954904e-01,\n",
       "       9.17694806e-01, 6.26743821e-01, 1.58401455e-02, 5.99469181e-01,\n",
       "       9.99282492e-01, 9.73471586e-01, 8.94532155e-01, 2.03192640e-01,\n",
       "       9.99941048e-01, 9.97982478e-01, 3.54560018e-01, 9.99820029e-01,\n",
       "       9.99973211e-01, 1.06959272e-01, 9.99943953e-01, 9.99985225e-01,\n",
       "       1.42428240e-03, 9.99321741e-01, 9.24570136e-01, 8.58639055e-01,\n",
       "       7.50881910e-01, 9.99896606e-01, 3.39275423e-01, 9.99750932e-01])"
      ]
     },
     "execution_count": 186,
     "metadata": {},
     "output_type": "execute_result"
    }
   ],
   "source": [
    "sigmoid(np.dot(X, theta_optimized))"
   ]
  },
  {
   "cell_type": "code",
   "execution_count": null,
   "metadata": {},
   "outputs": [],
   "source": []
  },
  {
   "cell_type": "code",
   "execution_count": 132,
   "metadata": {},
   "outputs": [],
   "source": [
    "theta=np.array([0,0,0])"
   ]
  },
  {
   "cell_type": "code",
   "execution_count": 149,
   "metadata": {},
   "outputs": [
    {
     "ename": "ValueError",
     "evalue": "matmul: Input operand 1 has a mismatch in its core dimension 0, with gufunc signature (n?,k),(k,m?)->(n?,m?) (size 100 is different from 20)",
     "output_type": "error",
     "traceback": [
      "\u001b[1;31m---------------------------------------------------------------------------\u001b[0m",
      "\u001b[1;31mValueError\u001b[0m                                Traceback (most recent call last)",
      "\u001b[1;32m<ipython-input-149-151f8825e05c>\u001b[0m in \u001b[0;36m<module>\u001b[1;34m\u001b[0m\n\u001b[0;32m      5\u001b[0m \u001b[1;33m...\u001b[0m\u001b[1;33m\u001b[0m\u001b[0m\n\u001b[0;32m      6\u001b[0m \u001b[1;33m\u001b[0m\u001b[0m\n\u001b[1;32m----> 7\u001b[1;33m \u001b[0mprint\u001b[0m\u001b[1;33m(\u001b[0m\u001b[0mcheck_grad\u001b[0m\u001b[1;33m(\u001b[0m\u001b[0mcostfunction\u001b[0m\u001b[1;33m,\u001b[0m \u001b[0mgradient\u001b[0m\u001b[1;33m,\u001b[0m \u001b[0mnp\u001b[0m\u001b[1;33m.\u001b[0m\u001b[0mrandom\u001b[0m\u001b[1;33m.\u001b[0m\u001b[0mrandom\u001b[0m\u001b[1;33m(\u001b[0m\u001b[0msize\u001b[0m\u001b[1;33m=\u001b[0m\u001b[1;36m20\u001b[0m\u001b[1;33m)\u001b[0m\u001b[1;33m,\u001b[0m \u001b[0mX_examples\u001b[0m\u001b[1;33m,\u001b[0m \u001b[0mY_labels\u001b[0m\u001b[1;33m)\u001b[0m\u001b[1;33m)\u001b[0m\u001b[1;33m\u001b[0m\u001b[0m\n\u001b[0m",
      "\u001b[1;32mc:\\users\\nitin mali\\appdata\\local\\programs\\python\\python37\\lib\\site-packages\\scipy\\optimize\\optimize.py\u001b[0m in \u001b[0;36mcheck_grad\u001b[1;34m(func, grad, x0, *args, **kwargs)\u001b[0m\n\u001b[0;32m    802\u001b[0m         raise ValueError(\"Unknown keyword arguments: %r\" %\n\u001b[0;32m    803\u001b[0m                          (list(kwargs.keys()),))\n\u001b[1;32m--> 804\u001b[1;33m     return sqrt(sum((grad(x0, *args) -\n\u001b[0m\u001b[0;32m    805\u001b[0m                      approx_fprime(x0, func, step, *args))**2))\n\u001b[0;32m    806\u001b[0m \u001b[1;33m\u001b[0m\u001b[0m\n",
      "\u001b[1;32m<ipython-input-141-6ccc0a766bc1>\u001b[0m in \u001b[0;36mgradient\u001b[1;34m(X, theta, y)\u001b[0m\n\u001b[0;32m      1\u001b[0m \u001b[1;32mdef\u001b[0m \u001b[0mgradient\u001b[0m\u001b[1;33m(\u001b[0m\u001b[0mX\u001b[0m\u001b[1;33m,\u001b[0m\u001b[0mtheta\u001b[0m\u001b[1;33m,\u001b[0m\u001b[0my\u001b[0m\u001b[1;33m)\u001b[0m\u001b[1;33m:\u001b[0m\u001b[1;33m\u001b[0m\u001b[0m\n\u001b[1;32m----> 2\u001b[1;33m     \u001b[1;32mreturn\u001b[0m \u001b[1;33m(\u001b[0m\u001b[1;33m(\u001b[0m\u001b[1;36m1\u001b[0m\u001b[1;33m/\u001b[0m\u001b[0mm\u001b[0m\u001b[1;33m)\u001b[0m \u001b[1;33m*\u001b[0m \u001b[0mX\u001b[0m\u001b[1;33m.\u001b[0m\u001b[0mT\u001b[0m \u001b[1;33m@\u001b[0m \u001b[1;33m(\u001b[0m\u001b[0msigmoid\u001b[0m\u001b[1;33m(\u001b[0m\u001b[0mX\u001b[0m\u001b[1;33m@\u001b[0m\u001b[0mtheta\u001b[0m\u001b[1;33m)\u001b[0m\u001b[1;33m-\u001b[0m\u001b[0my\u001b[0m\u001b[1;33m)\u001b[0m\u001b[1;33m)\u001b[0m\u001b[1;33m\u001b[0m\u001b[0m\n\u001b[0m",
      "\u001b[1;31mValueError\u001b[0m: matmul: Input operand 1 has a mismatch in its core dimension 0, with gufunc signature (n?,k),(k,m?)->(n?,m?) (size 100 is different from 20)"
     ]
    }
   ],
   "source": [
    "from scipy.optimize import check_grad\n",
    "from sklearn.datasets import make_classification\n",
    "X_examples, Y_labels = make_classification()\n",
    "\n",
    "...\n",
    "\n",
    "print(check_grad(costfunction, gradient, np.random.random(size=20), X_examples, Y_labels))"
   ]
  },
  {
   "cell_type": "code",
   "execution_count": null,
   "metadata": {},
   "outputs": [],
   "source": []
  }
 ],
 "metadata": {
  "kernelspec": {
   "display_name": "Python 3",
   "language": "python",
   "name": "python3"
  },
  "language_info": {
   "codemirror_mode": {
    "name": "ipython",
    "version": 3
   },
   "file_extension": ".py",
   "mimetype": "text/x-python",
   "name": "python",
   "nbconvert_exporter": "python",
   "pygments_lexer": "ipython3",
   "version": "3.7.0"
  }
 },
 "nbformat": 4,
 "nbformat_minor": 2
}
